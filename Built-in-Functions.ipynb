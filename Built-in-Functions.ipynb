{
 "cells": [
  {
   "cell_type": "markdown",
   "metadata": {},
   "source": [
    "all() return True if \n",
    "    (1) All elements in the iterable are True\n",
    "    (2) The iterable is empty"
   ]
  },
  {
   "cell_type": "code",
   "execution_count": 12,
   "metadata": {},
   "outputs": [
    {
     "name": "stdout",
     "output_type": "stream",
     "text": [
      "All elements are true\n"
     ]
    }
   ],
   "source": [
    "x = [5,6,8,9,1,20]\n",
    "if all(x):\n",
    "    print(\"All elements are true\")\n",
    "else:\n",
    "    print(\" At Least one element is false\")"
   ]
  },
  {
   "cell_type": "code",
   "execution_count": 5,
   "metadata": {},
   "outputs": [
    {
     "name": "stdout",
     "output_type": "stream",
     "text": [
      " At Least one element is false\n"
     ]
    }
   ],
   "source": [
    "x = [5,6,8,9,0,20]\n",
    "if all(x):\n",
    "    print(\"All elements are true\")\n",
    "else:\n",
    "    print(\" At Least one element is false\")"
   ]
  },
  {
   "cell_type": "code",
   "execution_count": 5,
   "metadata": {},
   "outputs": [
    {
     "name": "stdout",
     "output_type": "stream",
     "text": [
      "All elements are true Or the iterator is empty\n"
     ]
    }
   ],
   "source": [
    "x = []\n",
    "if all(x):\n",
    "    print(\"All elements are true Or the iterator is empty\")\n",
    "else:\n",
    "    print(\" At Least one element is false\")"
   ]
  },
  {
   "cell_type": "markdown",
   "metadata": {},
   "source": [
    "any() return True if At Least one element in the iterable is True"
   ]
  },
  {
   "cell_type": "code",
   "execution_count": 6,
   "metadata": {},
   "outputs": [
    {
     "name": "stdout",
     "output_type": "stream",
     "text": [
      " At least one element is true\n"
     ]
    }
   ],
   "source": [
    "y = [5,6,8,9,1,20]\n",
    "if any(y):\n",
    "    print(\" At least one element is true\")\n",
    "else:\n",
    "    print(\"All elements are false\")"
   ]
  },
  {
   "cell_type": "code",
   "execution_count": 8,
   "metadata": {},
   "outputs": [
    {
     "name": "stdout",
     "output_type": "stream",
     "text": [
      "All elements are false\n"
     ]
    }
   ],
   "source": [
    "y = [0,[],(),{},None,'']\n",
    "if any(y):\n",
    "    print(\" At least one element is true\")\n",
    "else:\n",
    "    print(\"All elements are false\")"
   ]
  },
  {
   "cell_type": "code",
   "execution_count": 13,
   "metadata": {},
   "outputs": [
    {
     "name": "stdout",
     "output_type": "stream",
     "text": [
      "0b1010\n"
     ]
    }
   ],
   "source": [
    "print(bin(10))"
   ]
  },
  {
   "cell_type": "code",
   "execution_count": 15,
   "metadata": {},
   "outputs": [
    {
     "name": "stdout",
     "output_type": "stream",
     "text": [
      "140720250029096\n"
     ]
    }
   ],
   "source": [
    "a = 5\n",
    "print(id(a)) # id() function returns the identity of the object ( address in the memory)"
   ]
  },
  {
   "cell_type": "code",
   "execution_count": 17,
   "metadata": {},
   "outputs": [
    {
     "name": "stdout",
     "output_type": "stream",
     "text": [
      "15\n",
      "25\n"
     ]
    }
   ],
   "source": [
    "# sum(iterable, start)\n",
    "# iterable - iterable (list, tuple, dict, etc). The items of the iterable should be numbers.\n",
    "# start (optional) - this value is added to the sum of items of the iterable. The default value of start is 0 (if omitted)\n",
    "print(sum([1,2,3,4,5])) # 15\n",
    "print(sum([1,2,3,4,5],10)) # 25"
   ]
  },
  {
   "cell_type": "code",
   "execution_count": 18,
   "metadata": {},
   "outputs": [
    {
     "name": "stdout",
     "output_type": "stream",
     "text": [
      "11\n",
      "11.0\n",
      "10.7\n"
     ]
    }
   ],
   "source": [
    "# round(number, ndigits)\n",
    "# number - number to be rounded\n",
    "# ndigits (optional) - number upto which the given number is to be rounded\n",
    "print(round(10.7)) # 11\n",
    "print(round(10.7, 0)) # 11\n",
    "print(round(10.7, 1)) # 10.7\n"
   ]
  },
  {
   "cell_type": "code",
   "execution_count": 19,
   "metadata": {},
   "outputs": [
    {
     "name": "stdout",
     "output_type": "stream",
     "text": [
      "[0, 1, 2, 3, 4, 5, 6, 7, 8, 9]\n"
     ]
    }
   ],
   "source": [
    "# range(start, end, step)\n",
    "# start - integer starting from which the sequence of integers is to be returned\n",
    "# end - integer before which the sequence of integers is to be returned.\n",
    "# step (Optional) - integer value which determines the increment between each integer in the sequence\n",
    "print(list(range(10))) # [0,1,2,3,4,5,6,7,8,9]"
   ]
  },
  {
   "cell_type": "code",
   "execution_count": 10,
   "metadata": {},
   "outputs": [
    {
     "name": "stdout",
     "output_type": "stream",
     "text": [
      "[4, 16, 36, 64]\n"
     ]
    }
   ],
   "source": [
    "# Map function\n",
    "# map(function, iterable)\n",
    "# function - map() passes each item of the iterable to this function.\n",
    "# iterable - iterable which is to be mapped\n",
    "\n",
    "# use map with predefined function\n",
    "def calculateSquare(num):\n",
    "    return num*num\n",
    "numbers = [2,4,6,8]\n",
    "result = map(calculateSquare, numbers)\n",
    "\n",
    "print(list(result))\n",
    "# for num in result:\n",
    "#     print(num)"
   ]
  },
  {
   "cell_type": "code",
   "execution_count": 11,
   "metadata": {},
   "outputs": [
    {
     "name": "stdout",
     "output_type": "stream",
     "text": [
      "[4, 16, 36, 64]\n"
     ]
    }
   ],
   "source": [
    "# use map with lambda function\n",
    "numbers = [2,4,6,8]\n",
    "result = map(lambda num : num * num, numbers)\n",
    "print(list(result))"
   ]
  },
  {
   "cell_type": "code",
   "execution_count": 28,
   "metadata": {},
   "outputs": [
    {
     "name": "stdout",
     "output_type": "stream",
     "text": [
      "Wessam\n",
      "Essam\n"
     ]
    }
   ],
   "source": [
    "def get_names(name):\n",
    "    return name.endswith('m')\n",
    "\n",
    "friends_filter = [\"Osama\", \"Wessam\", \"Amal\", \"Essam\", \"Gamal\", \"Othman\"]\n",
    "names = filter(get_names, friends_filter)\n",
    "for name in names:\n",
    "    print(name)\n",
    "\n"
   ]
  },
  {
   "cell_type": "code",
   "execution_count": 2,
   "metadata": {},
   "outputs": [
    {
     "name": "stdout",
     "output_type": "stream",
     "text": [
      "15\n"
     ]
    }
   ],
   "source": [
    "# reduce(function, iterable)\n",
    "# function - function that implements the operation\n",
    "# iterable - iterable which is to be reduced\n",
    "# reduce() function is for performing some computation on a list and returning the result.\n",
    "# It applies a rolling computation to sequential pairs of values in a list.\n",
    "## calculate the first pair of values and then the result with the next value in the list.\n",
    "# This process continues till we reach the end of the list.\n",
    "\n",
    "from functools import reduce\n",
    "\n",
    "def sumAll(n,n2):\n",
    "    return n + n2\n",
    "\n",
    "numbers = [1,2,3,4,5]\n",
    "\n",
    "result = reduce(sumAll, numbers)\n",
    "print(result)"
   ]
  }
 ],
 "metadata": {
  "kernelspec": {
   "display_name": "Python 3",
   "language": "python",
   "name": "python3"
  },
  "language_info": {
   "codemirror_mode": {
    "name": "ipython",
    "version": 3
   },
   "file_extension": ".py",
   "mimetype": "text/x-python",
   "name": "python",
   "nbconvert_exporter": "python",
   "pygments_lexer": "ipython3",
   "version": "3.13.1"
  }
 },
 "nbformat": 4,
 "nbformat_minor": 2
}
