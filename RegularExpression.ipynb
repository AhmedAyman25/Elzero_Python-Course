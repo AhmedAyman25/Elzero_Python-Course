{
 "cells": [
  {
   "cell_type": "markdown",
   "metadata": {},
   "source": [
    "- Match Any Email <br>\n",
    "- [A-z0-9\\.]+@+[A-z]+\\.+[A-z]+ <br>\n",
    "- ^[A-z0-9\\.]+@+[A-z]+\\.+[A-z]+$ <br>\n",
    "\n",
    "- - `^` Start of String `$` End of String\n"
   ]
  },
  {
   "cell_type": "markdown",
   "metadata": {},
   "source": [
    "- Match Emails that ends with `com and net` <br>\n",
    "-  [A-z0-9\\.]+@+[A-z]+\\.+(com|net)\n",
    "- ^[A-z0-9\\.]+@+[A-z]+\\.+(com|net)$"
   ]
  }
 ],
 "metadata": {
  "language_info": {
   "name": "python"
  }
 },
 "nbformat": 4,
 "nbformat_minor": 2
}
