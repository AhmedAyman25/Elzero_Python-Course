{
 "cells": [
  {
   "cell_type": "markdown",
   "metadata": {},
   "source": [
    "# Exceptions and Error Handling"
   ]
  },
  {
   "cell_type": "markdown",
   "metadata": {},
   "source": [
    "- Exceptions are `errors that occur during the execution of a program (runtime)`. \n",
    "- When an error occurs, Python generates an exception that can be handled, which avoids your program to crash.\n",
    "- Exceptions can be handled using `try and except statements`. The critical operation which can raise an exception is placed inside the try clause. The code that handles the exceptions is written in the except clause.\n",
    "- Exceptions have many types (SyntaxError, IndexError, ...)\n",
    "- Exceptions give you the `message to understand the problem`\n",
    "- `raise` keyword is used to `Raise your own exception (write your own message)`\n",
    "\n",
    "- https://docs.python.org/3/tutorial/errors.html#tut-userexceptions\n",
    "- https://docs.python.org/3/library/exceptions.html"
   ]
  },
  {
   "cell_type": "code",
   "execution_count": 1,
   "metadata": {},
   "outputs": [
    {
     "ename": "Exception",
     "evalue": "-10 is negative, it should be positive",
     "output_type": "error",
     "traceback": [
      "\u001b[31m---------------------------------------------------------------------------\u001b[39m",
      "\u001b[31mException\u001b[39m                                 Traceback (most recent call last)",
      "\u001b[36mCell\u001b[39m\u001b[36m \u001b[39m\u001b[32mIn[1]\u001b[39m\u001b[32m, line 4\u001b[39m\n\u001b[32m      1\u001b[39m x = -\u001b[32m10\u001b[39m\n\u001b[32m      3\u001b[39m \u001b[38;5;28;01mif\u001b[39;00m x < \u001b[32m0\u001b[39m:\n\u001b[32m----> \u001b[39m\u001b[32m4\u001b[39m     \u001b[38;5;28;01mraise\u001b[39;00m \u001b[38;5;167;01mException\u001b[39;00m(\u001b[33mf\u001b[39m\u001b[33m\"\u001b[39m\u001b[38;5;132;01m{\u001b[39;00mx\u001b[38;5;132;01m}\u001b[39;00m\u001b[33m is negative, it should be positive\u001b[39m\u001b[33m\"\u001b[39m)\n\u001b[32m      5\u001b[39m \u001b[38;5;28;01melse\u001b[39;00m:\n\u001b[32m      6\u001b[39m     \u001b[38;5;28mprint\u001b[39m(\u001b[33mf\u001b[39m\u001b[33m\"\u001b[39m\u001b[38;5;132;01m{\u001b[39;00mx\u001b[38;5;132;01m}\u001b[39;00m\u001b[33m is positive\u001b[39m\u001b[33m\"\u001b[39m)\n",
      "\u001b[31mException\u001b[39m: -10 is negative, it should be positive"
     ]
    }
   ],
   "source": [
    "x = -10\n",
    "\n",
    "if x < 0:\n",
    "    raise Exception(f\"{x} is negative, it should be positive\")\n",
    "else:\n",
    "    print(f\"{x} is positive\")\n"
   ]
  },
  {
   "cell_type": "code",
   "execution_count": null,
   "metadata": {},
   "outputs": [
    {
     "ename": "ZeroDivisionError",
     "evalue": "division by zero",
     "output_type": "error",
     "traceback": [
      "\u001b[31m---------------------------------------------------------------------------\u001b[39m",
      "\u001b[31mZeroDivisionError\u001b[39m                         Traceback (most recent call last)",
      "\u001b[36mCell\u001b[39m\u001b[36m \u001b[39m\u001b[32mIn[2]\u001b[39m\u001b[32m, line 1\u001b[39m\n\u001b[32m----> \u001b[39m\u001b[32m1\u001b[39m \u001b[32;43m1\u001b[39;49m\u001b[43m/\u001b[49m\u001b[32;43m0\u001b[39;49m\n",
      "\u001b[31mZeroDivisionError\u001b[39m: division by zero"
     ]
    }
   ],
   "source": [
    "1/0 # ZeroDivisionError"
   ]
  },
  {
   "cell_type": "code",
   "execution_count": 5,
   "metadata": {},
   "outputs": [
    {
     "ename": "NameError",
     "evalue": "name 'a' is not defined",
     "output_type": "error",
     "traceback": [
      "\u001b[31m---------------------------------------------------------------------------\u001b[39m",
      "\u001b[31mNameError\u001b[39m                                 Traceback (most recent call last)",
      "\u001b[36mCell\u001b[39m\u001b[36m \u001b[39m\u001b[32mIn[5]\u001b[39m\u001b[32m, line 1\u001b[39m\n\u001b[32m----> \u001b[39m\u001b[32m1\u001b[39m y = \u001b[43ma\u001b[49m + \u001b[32m5\u001b[39m \u001b[38;5;66;03m# NameError\u001b[39;00m\n",
      "\u001b[31mNameError\u001b[39m: name 'a' is not defined"
     ]
    }
   ],
   "source": [
    "y = a + 5 # NameError"
   ]
  },
  {
   "cell_type": "code",
   "execution_count": 4,
   "metadata": {},
   "outputs": [
    {
     "ename": "IndexError",
     "evalue": "list index out of range",
     "output_type": "error",
     "traceback": [
      "\u001b[31m---------------------------------------------------------------------------\u001b[39m",
      "\u001b[31mIndexError\u001b[39m                                Traceback (most recent call last)",
      "\u001b[36mCell\u001b[39m\u001b[36m \u001b[39m\u001b[32mIn[4]\u001b[39m\u001b[32m, line 2\u001b[39m\n\u001b[32m      1\u001b[39m myList = [\u001b[32m1\u001b[39m, \u001b[32m2\u001b[39m, \u001b[32m3\u001b[39m]\n\u001b[32m----> \u001b[39m\u001b[32m2\u001b[39m \u001b[38;5;28mprint\u001b[39m(\u001b[43mmyList\u001b[49m\u001b[43m[\u001b[49m\u001b[32;43m7\u001b[39;49m\u001b[43m]\u001b[49m) \u001b[38;5;66;03m# IndexError\u001b[39;00m\n",
      "\u001b[31mIndexError\u001b[39m: list index out of range"
     ]
    }
   ],
   "source": [
    "myList = [1, 2, 3]\n",
    "print(myList[7]) # IndexError"
   ]
  },
  {
   "cell_type": "code",
   "execution_count": null,
   "metadata": {},
   "outputs": [
    {
     "name": "stdout",
     "output_type": "stream",
     "text": [
      "could not convert the input to an integer\n",
      "Execution completed\n"
     ]
    }
   ],
   "source": [
    "# try: the code written in this block will be executed\n",
    "# except: if an exception occurs in the try block, the code in this block will be executed\n",
    "# else: if no exception occurs in the try block, the code in this block will be executed\n",
    "# finally: the code written in this block will be executed regardless of whether an exception occurs or not\n",
    "\n",
    "try:\n",
    "    age = int(input(\"Enter your age: \"))\n",
    "except:\n",
    "    print(\"could not convert the input to an integer\")\n",
    "else:\n",
    "    print(f\"Your age is {age}\")\n",
    "finally:\n",
    "    print(\"Execution completed\")"
   ]
  },
  {
   "cell_type": "markdown",
   "metadata": {},
   "source": [
    "# Handle specific exceptions"
   ]
  },
  {
   "cell_type": "code",
   "execution_count": null,
   "metadata": {},
   "outputs": [
    {
     "name": "stdout",
     "output_type": "stream",
     "text": [
      "could not convert the input to an integer\n",
      "Execution completed\n"
     ]
    }
   ],
   "source": [
    "\n",
    "try:\n",
    "    age = int(input(\"Enter your age: \"))\n",
    "except ValueError:\n",
    "    print(\"could not convert the input to an integer\")\n",
    "else:\n",
    "    print(f\"Your age is {age}\")\n",
    "finally:\n",
    "    print(\"Execution completed\")"
   ]
  },
  {
   "cell_type": "code",
   "execution_count": 9,
   "metadata": {},
   "outputs": [
    {
     "name": "stdout",
     "output_type": "stream",
     "text": [
      "Division by zero is not allowed\n"
     ]
    }
   ],
   "source": [
    "try:\n",
    "    a = 8/0\n",
    "except ZeroDivisionError:\n",
    "    print(\"Division by zero is not allowed\")\n",
    "else:\n",
    "    print(a)"
   ]
  },
  {
   "cell_type": "code",
   "execution_count": 10,
   "metadata": {},
   "outputs": [
    {
     "name": "stdout",
     "output_type": "stream",
     "text": [
      "Identifier not defined\n"
     ]
    }
   ],
   "source": [
    "try:\n",
    "    sum = n1+n2\n",
    "except NameError:\n",
    "    print(\"Identifier not defined\")\n",
    "else:\n",
    "    print(sum)"
   ]
  },
  {
   "cell_type": "code",
   "execution_count": 11,
   "metadata": {},
   "outputs": [
    {
     "name": "stdout",
     "output_type": "stream",
     "text": [
      "ZeroDivisionError or NameError\n"
     ]
    }
   ],
   "source": [
    "# Compine multiple exceptions in one except block\n",
    "try:\n",
    "    a = 8/0\n",
    "    sum = n1+n2\n",
    "except (ZeroDivisionError, NameError):\n",
    "    print(\"ZeroDivisionError or NameError\")\n",
    "else:\n",
    "    print(sum)"
   ]
  },
  {
   "cell_type": "markdown",
   "metadata": {},
   "source": [
    " You can also have an empty `except` at the end to `catch an unexpected exception`"
   ]
  },
  {
   "cell_type": "code",
   "execution_count": null,
   "metadata": {},
   "outputs": [
    {
     "name": "stdout",
     "output_type": "stream",
     "text": [
      "An unexpected error occurred\n"
     ]
    }
   ],
   "source": [
    "\n",
    "try:\n",
    "    \n",
    "    sum = n1+n2\n",
    "except ValueError:\n",
    "        print(\"ValueError\")\n",
    "except ZeroDivisionError:\n",
    "        print(\"DevisionByZero\")\n",
    "except:\n",
    "    print(\"An unexpected error occurred\")\n"
   ]
  },
  {
   "cell_type": "code",
   "execution_count": 16,
   "metadata": {},
   "outputs": [
    {
     "name": "stdout",
     "output_type": "stream",
     "text": [
      "Number of tries left: 5\n",
      "File path should be in the format: /path/your_file.extention\n",
      "File not found\n",
      "Number of tries left: 4\n",
      "File path should be in the format: /path/your_file.extention\n",
      "File not found\n",
      "Number of tries left: 3\n",
      "File path should be in the format: /path/your_file.extention\n",
      "File not found\n",
      "Number of tries left: 2\n",
      "File path should be in the format: /path/your_file.extention\n",
      "File not found\n",
      "Number of tries left: 1\n",
      "File path should be in the format: /path/your_file.extention\n",
      "File not found\n",
      "All attempts Done\n"
     ]
    }
   ],
   "source": [
    "# Practical example\n",
    "the_file = None\n",
    "num_of_tries = 5\n",
    "\n",
    "while num_of_tries > 0:\n",
    "    try:\n",
    "        print(f\"Number of tries left: {num_of_tries}\")\n",
    "        print(\"File path should be in the format: /path/your_file.extention\")\n",
    "        file_path = input(\"Enter the file path: \").strip()\n",
    "        the_file = open(file_path, 'r')\n",
    "        print(the_file.read())\n",
    "        break\n",
    "    except FileNotFoundError:\n",
    "        print(\"File not found\")\n",
    "        num_of_tries -= 1\n",
    "    except:\n",
    "        print(\"An Error Occurred\")\n",
    "    finally:\n",
    "        if the_file is not None: \n",
    "            the_file.close()\n",
    "            print(\"File is Closed!\")\n",
    "\n",
    "else:\n",
    "    print(\"All attempts Done\")\n"
   ]
  },
  {
   "cell_type": "code",
   "execution_count": null,
   "metadata": {},
   "outputs": [],
   "source": []
  }
 ],
 "metadata": {
  "kernelspec": {
   "display_name": "Python 3",
   "language": "python",
   "name": "python3"
  },
  "language_info": {
   "codemirror_mode": {
    "name": "ipython",
    "version": 3
   },
   "file_extension": ".py",
   "mimetype": "text/x-python",
   "name": "python",
   "nbconvert_exporter": "python",
   "pygments_lexer": "ipython3",
   "version": "3.13.1"
  }
 },
 "nbformat": 4,
 "nbformat_minor": 2
}
