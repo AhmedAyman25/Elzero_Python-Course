{
 "cells": [
  {
   "cell_type": "markdown",
   "metadata": {},
   "source": [
    "\n",
    "- `Decorator` functions are software design patterns.\n",
    "- They dynamically `alter the functionality of a function, method, or class without having to directly change the source code of the decorated function`\n",
    "- Any function that takes a function as a parameter and returns an augmented function can be used as a decorator\n",
    "- `Decorators are used to modify the behavior of function or class method`\n",
    "- Decorators are used to add functionality to an existing code\n",
    "- we usually define a new function inside the decorator and return it. \n",
    "  This new function would first do something that it needs to do, then call the original function, and finally process the return value.\n"
   ]
  },
  {
   "cell_type": "code",
   "execution_count": 1,
   "metadata": {},
   "outputs": [],
   "source": [
    "# Craete a decorator that will print a message before and after calling the function\n",
    "def MyDecorator(fun):\n",
    "    def wrapper():\n",
    "        print(\"Before calling the function\")\n",
    "        fun()\n",
    "        print(\"After calling the function\")\n",
    "    return wrapper\n"
   ]
  },
  {
   "cell_type": "code",
   "execution_count": 2,
   "metadata": {},
   "outputs": [
    {
     "name": "stdout",
     "output_type": "stream",
     "text": [
      "Before calling the function\n",
      " Hi I am a function\n",
      "After calling the function\n"
     ]
    }
   ],
   "source": [
    "def My_Function():\n",
    "    print(\" Hi I am a function\")\n",
    "\n",
    "# old way of calling the decorated function\n",
    "Decorated_Function = MyDecorator(My_Function)\n",
    "Decorated_Function()"
   ]
  },
  {
   "cell_type": "code",
   "execution_count": 3,
   "metadata": {},
   "outputs": [
    {
     "name": "stdout",
     "output_type": "stream",
     "text": [
      "Before calling the function\n",
      " Hi I am a function\n",
      "After calling the function\n"
     ]
    }
   ],
   "source": [
    "# new way of calling the decorated function\n",
    "@MyDecorator\n",
    "def My_Function():\n",
    "    print(\" Hi I am a function\")\n",
    "My_Function()"
   ]
  },
  {
   "cell_type": "code",
   "execution_count": null,
   "metadata": {},
   "outputs": [
    {
     "name": "stdout",
     "output_type": "stream",
     "text": [
      "Before calling the function\n",
      "Hello\n",
      "After calling the function\n"
     ]
    }
   ],
   "source": [
    "# When use @MyDecorator, it is equivalent to Decorated_Fun = MyDecorator(say_hello)\n",
    "# So, Decorated_Fun = MyDecorator(say_hello) = wrapper\n",
    "# So, say_hello() = wrapper()\n",
    "\n",
    "@MyDecorator\n",
    "def say_hello():\n",
    "    print(\"Hello\")\n",
    "say_hello()"
   ]
  },
  {
   "cell_type": "code",
   "execution_count": 7,
   "metadata": {},
   "outputs": [
    {
     "name": "stdout",
     "output_type": "stream",
     "text": [
      "Before calling the function\n",
      "1200\n",
      "After calling the function\n"
     ]
    }
   ],
   "source": [
    "# Decorator with arguments\n",
    "def MyDecoratorWithArgs(fun):\n",
    "    def wrapper(*args, **kwargs):\n",
    "        print(\"Before calling the function\")\n",
    "        fun(*args, **kwargs)\n",
    "        print(\"After calling the function\")\n",
    "    return wrapper\n",
    "\n",
    "@MyDecoratorWithArgs\n",
    "def claculate_product(*args):\n",
    "    product = 1\n",
    "    for i in args:\n",
    "        product *= i\n",
    "    print(product)\n",
    "\n",
    "claculate_product(1, 2, 3, 4, 5,10)"
   ]
  },
  {
   "cell_type": "code",
   "execution_count": null,
   "metadata": {},
   "outputs": [
    {
     "name": "stdout",
     "output_type": "stream",
     "text": [
      "Before calling the function from MyDecorator1\n",
      "Before calling the function from MyDecorator2\n",
      "Welcome\n",
      "After calling the function from MyDecorator2\n",
      "After calling the function from MyDecorator1\n"
     ]
    }
   ],
   "source": [
    "# We can apply multiple decorators to a single function\n",
    "def MyDecorator1(fun):\n",
    "    def wrapper():\n",
    "        print(\"Before calling the function from MyDecorator1\")\n",
    "        fun()\n",
    "        print(\"After calling the function from MyDecorator1\")\n",
    "    return wrapper\n",
    "\n",
    "def MyDecorator2(fun):\n",
    "    def wrapper():\n",
    "        print(\"Before calling the function from MyDecorator2\")\n",
    "        fun()\n",
    "        print(\"After calling the function from MyDecorator2\")\n",
    "    return wrapper\n",
    "\n",
    "@MyDecorator1\n",
    "@MyDecorator2\n",
    "def say_welcome():\n",
    "    print(\"Welcome\")\n",
    "\n",
    "say_welcome()"
   ]
  }
 ],
 "metadata": {
  "kernelspec": {
   "display_name": "Python 3",
   "language": "python",
   "name": "python3"
  },
  "language_info": {
   "codemirror_mode": {
    "name": "ipython",
    "version": 3
   },
   "file_extension": ".py",
   "mimetype": "text/x-python",
   "name": "python",
   "nbconvert_exporter": "python",
   "pygments_lexer": "ipython3",
   "version": "3.13.1"
  }
 },
 "nbformat": 4,
 "nbformat_minor": 2
}
